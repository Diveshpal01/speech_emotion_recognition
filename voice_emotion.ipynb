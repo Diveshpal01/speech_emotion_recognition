{
 "cells": [
  {
   "cell_type": "code",
   "execution_count": 1,
   "id": "3eafe443",
   "metadata": {},
   "outputs": [],
   "source": [
    "import librosa\n",
    "import soundfile\n",
    "import os, glob, pickle\n",
    "import numpy as np\n",
    "from sklearn.model_selection import train_test_split\n",
    "from sklearn.neural_network import MLPClassifier\n",
    "from sklearn.metrics import accuracy_score"
   ]
  },
  {
   "cell_type": "code",
   "execution_count": 2,
   "id": "084f4f88",
   "metadata": {},
   "outputs": [],
   "source": [
    "#Code for Extract features (mfcc, chroma, mel) from a sound file\n",
    "def extract_feature(file_name, mfcc, chroma, mel):\n",
    "    with soundfile.SoundFile(file_name) as sound_file:\n",
    "        X = sound_file.read(dtype=\"float32\")\n",
    "        sample_rate=sound_file.samplerate\n",
    "        if chroma:\n",
    "            stft=np.abs(librosa.stft(X))\n",
    "        result=np.array([])\n",
    "        if mfcc:\n",
    "            mfccs=np.mean(librosa.feature.mfcc(y=X, sr=sample_rate, n_mfcc=40).T, axis=0)\n",
    "            result=np.hstack((result, mfccs))\n",
    "        if chroma:\n",
    "            chroma=np.mean(librosa.feature.chroma_stft(S=stft, sr=sample_rate).T,axis=0)\n",
    "            result=np.hstack((result, chroma))\n",
    "        if mel:\n",
    "            mel=np.mean(librosa.feature.melspectrogram(X, sr=sample_rate).T,axis=0)\n",
    "            result=np.hstack((result, mel))\n",
    "    return result"
   ]
  },
  {
   "cell_type": "code",
   "execution_count": 3,
   "id": "e197b77c",
   "metadata": {},
   "outputs": [],
   "source": [
    "#Code For Emotions in the RAVDESS dataset\n",
    "emotions={\n",
    "  '01':'neutral',\n",
    "  '02':'calm',\n",
    "  '03':'happy',\n",
    "  '04':'sad',\n",
    "  '05':'angry',\n",
    "  '06':'fearful',\n",
    "  '07':'disgust',\n",
    "  '08':'surprised'\n",
    "}\n",
    "\n",
    "#Emotions to observe\n",
    "observed_emotions=['calm', 'happy', 'fearful', 'disgust']"
   ]
  },
  {
   "cell_type": "code",
   "execution_count": 4,
   "id": "d58404c8",
   "metadata": {},
   "outputs": [],
   "source": [
    "#Code for Load the data and extract features for each sound file\n",
    "def load_data(test_size=0.2):\n",
    "    x,y=[],[]\n",
    "    for file in glob.glob(\"C:\\\\Users\\\\lenovo\\\\OneDrive\\\\Desktop\\\\Anaconda Projects\\\\Voices\\\\Actor_*\\\\*.wav\"):\n",
    "        file_name=os.path.basename(file)\n",
    "        emotion=emotions[file_name.split(\"-\")[2]]\n",
    "        if emotion not in observed_emotions:\n",
    "            continue\n",
    "        feature=extract_feature(file, mfcc=True, chroma=True, mel=True)\n",
    "        x.append(feature)\n",
    "        y.append(emotion)\n",
    "    return train_test_split(np.array(x),np.array(y), test_size=test_size, random_state=9)"
   ]
  },
  {
   "cell_type": "code",
   "execution_count": 5,
   "id": "50aaa953",
   "metadata": {},
   "outputs": [],
   "source": [
    "#Code for Split the dataset\n",
    "x_train,x_test,y_train,y_test=load_data(test_size=0.25)"
   ]
  },
  {
   "cell_type": "code",
   "execution_count": 6,
   "id": "1c44aaaa",
   "metadata": {},
   "outputs": [
    {
     "name": "stdout",
     "output_type": "stream",
     "text": [
      "(414, 138)\n"
     ]
    }
   ],
   "source": [
    "#Code for Get the shape of the training and testing datasets\n",
    "print((x_train.shape[0], x_test.shape[0]))"
   ]
  },
  {
   "cell_type": "code",
   "execution_count": 7,
   "id": "42e30c47",
   "metadata": {},
   "outputs": [
    {
     "name": "stdout",
     "output_type": "stream",
     "text": [
      "(414, 138)\n"
     ]
    }
   ],
   "source": [
    "print((y_train.shape[0],y_test.shape[0]))"
   ]
  },
  {
   "cell_type": "code",
   "execution_count": 8,
   "id": "cb00249b",
   "metadata": {},
   "outputs": [
    {
     "name": "stdout",
     "output_type": "stream",
     "text": [
      "Features extracted: 180\n"
     ]
    }
   ],
   "source": [
    "#Code for Get the number of features extracted\n",
    "print(f'Features extracted: {x_train.shape[1]}')"
   ]
  },
  {
   "cell_type": "code",
   "execution_count": 9,
   "id": "d741532a",
   "metadata": {},
   "outputs": [],
   "source": [
    "#Code for Initialize the Multi Layer Perceptron Classifier\n",
    "model=MLPClassifier(alpha=0.01, batch_size=256, epsilon=1e-08, hidden_layer_sizes=(300,), learning_rate='adaptive', max_iter=500)"
   ]
  },
  {
   "cell_type": "code",
   "execution_count": 10,
   "id": "ef7ccd68",
   "metadata": {},
   "outputs": [
    {
     "data": {
      "text/plain": [
       "MLPClassifier(alpha=0.01, batch_size=256, hidden_layer_sizes=(300,),\n",
       "              learning_rate='adaptive', max_iter=500)"
      ]
     },
     "execution_count": 10,
     "metadata": {},
     "output_type": "execute_result"
    }
   ],
   "source": [
    "#Code for Training the model\n",
    "model.fit(x_train,y_train)"
   ]
  },
  {
   "cell_type": "code",
   "execution_count": 11,
   "id": "2edb37cc",
   "metadata": {},
   "outputs": [],
   "source": [
    "#Code for Predicting for the test set\n",
    "y_pred=model.predict(x_test)\n"
   ]
  },
  {
   "cell_type": "code",
   "execution_count": 12,
   "id": "cfd1dd5d",
   "metadata": {},
   "outputs": [
    {
     "name": "stdout",
     "output_type": "stream",
     "text": [
      "Accuracy: 92.03%\n"
     ]
    }
   ],
   "source": [
    "#Code for Calculate the accuracy of our model\n",
    "accuracy=accuracy_score(y_true=y_test, y_pred=y_pred)\n",
    "\n",
    "#Code for Print the accuracy\n",
    "print(\"Accuracy: {:.2f}%\".format(accuracy*100))"
   ]
  },
  {
   "cell_type": "code",
   "execution_count": 13,
   "id": "c495caf5",
   "metadata": {},
   "outputs": [
    {
     "name": "stdout",
     "output_type": "stream",
     "text": [
      "['happy' 'happy' 'fearful' 'calm' 'fearful' 'fearful' 'fearful' 'calm'\n",
      " 'happy' 'fearful' 'calm' 'fearful' 'happy' 'calm' 'fearful' 'fearful'\n",
      " 'fearful' 'calm' 'calm' 'fearful' 'happy' 'calm' 'happy' 'fearful'\n",
      " 'fearful' 'calm' 'happy' 'fearful' 'calm' 'happy' 'calm' 'calm' 'happy'\n",
      " 'calm' 'happy' 'calm' 'fearful' 'fearful' 'happy' 'calm' 'calm' 'calm'\n",
      " 'happy' 'fearful' 'calm' 'fearful' 'calm' 'calm' 'fearful' 'calm'\n",
      " 'fearful' 'happy' 'happy' 'happy' 'happy' 'happy' 'fearful' 'happy'\n",
      " 'happy' 'calm' 'calm' 'happy' 'happy' 'happy' 'calm' 'happy' 'happy'\n",
      " 'fearful' 'happy' 'happy' 'fearful' 'happy' 'fearful' 'fearful' 'happy'\n",
      " 'calm' 'fearful' 'fearful' 'happy' 'calm' 'fearful' 'fearful' 'happy'\n",
      " 'calm' 'happy' 'happy' 'calm' 'happy' 'calm' 'happy' 'calm' 'calm'\n",
      " 'fearful' 'happy' 'fearful' 'fearful' 'calm' 'happy' 'fearful' 'calm'\n",
      " 'happy' 'happy' 'fearful' 'calm' 'happy' 'calm' 'happy' 'fearful' 'calm'\n",
      " 'fearful' 'happy' 'fearful' 'fearful' 'happy' 'fearful' 'happy' 'calm'\n",
      " 'calm' 'fearful' 'fearful' 'happy' 'happy' 'calm' 'happy' 'happy'\n",
      " 'fearful' 'fearful' 'happy' 'calm' 'fearful' 'fearful' 'happy' 'happy'\n",
      " 'happy' 'fearful' 'fearful' 'calm' 'fearful']\n"
     ]
    }
   ],
   "source": [
    "print(y_pred)"
   ]
  },
  {
   "cell_type": "code",
   "execution_count": 14,
   "id": "b79275fd",
   "metadata": {},
   "outputs": [
    {
     "name": "stdout",
     "output_type": "stream",
     "text": [
      "The End :-:-:-:-\n"
     ]
    }
   ],
   "source": [
    "print(\"The End :-:-:-:-\")"
   ]
  },
  {
   "cell_type": "code",
   "execution_count": null,
   "id": "54365c29",
   "metadata": {},
   "outputs": [],
   "source": []
  }
 ],
 "metadata": {
  "kernelspec": {
   "display_name": "Python 3 (ipykernel)",
   "language": "python",
   "name": "python3"
  },
  "language_info": {
   "codemirror_mode": {
    "name": "ipython",
    "version": 3
   },
   "file_extension": ".py",
   "mimetype": "text/x-python",
   "name": "python",
   "nbconvert_exporter": "python",
   "pygments_lexer": "ipython3",
   "version": "3.9.7"
  }
 },
 "nbformat": 4,
 "nbformat_minor": 5
}
